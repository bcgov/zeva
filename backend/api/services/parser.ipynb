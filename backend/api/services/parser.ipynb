{
 "cells": [
  {
   "cell_type": "code",
   "execution_count": 1,
   "metadata": {},
   "outputs": [],
   "source": [
    "import pandas as pd"
   ]
  },
  {
   "cell_type": "code",
   "execution_count": 2,
   "metadata": {},
   "outputs": [],
   "source": [
    "excelfile = \"excel location\""
   ]
  },
  {
   "cell_type": "code",
   "execution_count": 3,
   "metadata": {},
   "outputs": [],
   "source": [
    "def trim_all_columns(df):\n",
    "    \"\"\"\n",
    "    Trim whitespace from ends of each value across all series in dataframe\n",
    "    \"\"\"\n",
    "    trim_strings = lambda x: x.strip() if isinstance(x, str) else x\n",
    "    return df.applymap(trim_strings)"
   ]
  },
  {
   "cell_type": "code",
   "execution_count": 10,
   "metadata": {},
   "outputs": [],
   "source": [
    "df = pd.read_csv(excelfile, sep=\"|\", error_bad_lines=False)"
   ]
  },
  {
   "cell_type": "code",
   "execution_count": 11,
   "metadata": {},
   "outputs": [],
   "source": [
    "df.drop(df[(df.HYBRID_VEHICLE_FLAG == 'N') &\n",
    "            (df.ELECTRIC_VEHICLE_FLAG == 'N')].index, inplace=True)\n",
    "df['MODEL_YEAR'].fillna(0, inplace=True)\n",
    "df['VIN'].fillna(0, inplace=True)\n",
    "# df.drop(df[(df.MODEL_YEAR < 2019)].index, inplace=True)\n",
    "\n",
    "df.drop(df[(df.VIN == 0)].index, inplace=True)\n",
    "\n",
    "df.drop(df.columns.difference([\n",
    "  'VIN',\n",
    "  'MODEL',\n",
    "  'MODEL_YEAR',\n",
    "  'MAKE',\n",
    "  'ELECTRIC_VEHICLE_FLAG',\n",
    "  'HYBRID_VEHICLE_FLAG',\n",
    "  'FUEL_TYPE',\n",
    "  'VEHICLE_TYPE',\n",
    "  'NET_WEIGHT']), 1, inplace=True)\n",
    "df = trim_all_columns(df)\n",
    "df[\"MODEL_YEAR\"] = df[\"MODEL_YEAR\"].astype(int)\n",
    "df[\"MODEL\"] = df[\"MODEL\"].str.upper()\n",
    "df[\"MAKE\"]= df[\"MAKE\"].str.upper()"
   ]
  },
  {
   "cell_type": "code",
   "execution_count": null,
   "metadata": {},
   "outputs": [],
   "source": [
    "df.to_excel(\"output.xlsx\")"
   ]
  },
  {
   "cell_type": "code",
   "execution_count": 269,
   "metadata": {},
   "outputs": [],
   "source": [
    "zevadf = df.drop(df.columns.difference([\n",
    "  'MODEL',\n",
    "  'MAKE',\n",
    "'MODEL']), 1)\n",
    "zevadf['MakeModel'] = zevadf['MAKE'].str.cat(zevadf['MODEL'],sep=\" \")\n",
    "zevadf = zevadf.drop(zevadf.columns.difference([\n",
    "  'MakeModel']), 1)\n",
    "zevadf.drop_duplicates(inplace=True)\n",
    "zevadf = zevadf.sort_values('MakeModel')"
   ]
  },
  {
   "cell_type": "code",
   "execution_count": 76,
   "metadata": {},
   "outputs": [],
   "source": [
    "zevadf.to_excel(\"no_years_dropped.xlsx\")"
   ]
  },
  {
   "cell_type": "code",
   "execution_count": 216,
   "metadata": {},
   "outputs": [],
   "source": [
    "j_list_df=pd.read_excel(\"jmasterlist.xlsx\", header=1)"
   ]
  },
  {
   "cell_type": "code",
   "execution_count": 270,
   "metadata": {},
   "outputs": [],
   "source": [
    "combined_new_vehicles = pd.merge(left=zevadf, right=j_list_df, left_on=\"MakeModel\", right_on=\"COMBINED\", how='outer')\n",
    "combined_new_vehicles.columns=['ZEVA_parser', 'J_list']\n",
    "combined_new_vehicles.columns=['ZEVA_parser', 'J_list']\n",
    "combined_new_vehicles['all'] = combined_new_vehicles['ZEVA_parser']\n",
    "combined_new_vehicles.loc[combined_new_vehicles['all'].isnull(), 'all'] = combined_new_vehicles['J_list']\n"
   ]
  },
  {
   "cell_type": "code",
   "execution_count": 272,
   "metadata": {},
   "outputs": [],
   "source": [
    "combined_new_vehicles.to_excel(\"differences_all_vehicles.xlsx\")"
   ]
  }
 ],
 "metadata": {
  "kernelspec": {
   "display_name": "Python 3",
   "language": "python",
   "name": "python3"
  },
  "language_info": {
   "codemirror_mode": {
    "name": "ipython",
    "version": 3
   },
   "file_extension": ".py",
   "mimetype": "text/x-python",
   "name": "python",
   "nbconvert_exporter": "python",
   "pygments_lexer": "ipython3",
   "version": "3.7.6"
  }
 },
 "nbformat": 4,
 "nbformat_minor": 4
}
